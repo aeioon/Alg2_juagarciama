{
 "cells": [
  {
   "cell_type": "code",
   "execution_count": 13,
   "metadata": {},
   "outputs": [],
   "source": [
    "# Imports\n",
    "import time"
   ]
  },
  {
   "cell_type": "code",
   "execution_count": 14,
   "metadata": {},
   "outputs": [],
   "source": [
    "# Utility functions\n",
    "def time_to_minutes(time):\n",
    "    time = time.split(':')\n",
    "    minutes = int(time[0]) * 60 + int(time[1])\n",
    "    return minutes\n",
    "\n",
    "\n",
    "def minutes_to_time(minutes):\n",
    "    hours = minutes // 60\n",
    "    minutes = minutes % 60\n",
    "    return '{}:{:02d}'.format(hours, minutes)\n",
    "\n",
    "\n",
    "def path_to_str(path):\n",
    "    return path.__str__().replace(\"['\", '').replace(\"']\", '').replace(\"', '\", \" -> \")\n",
    "\n",
    "\n",
    "def time_function(func, *args):\n",
    "    start = time.perf_counter()\n",
    "    func(*args)\n",
    "    end = time.perf_counter()\n",
    "    print(f'Tiempo de ejecución: {end - start:.8f} segundos')"
   ]
  },
  {
   "cell_type": "code",
   "execution_count": 15,
   "metadata": {},
   "outputs": [],
   "source": [
    "# Graph class\n",
    "class Graph:\n",
    "    def __init__(self):\n",
    "        self.adjency_table = []\n",
    "        # Adjency table is created from csv file\n",
    "        with open('distance.csv', 'r') as distance_file, open('time.csv', 'r') as time_file:\n",
    "            distance_row = distance_file.readline()\n",
    "            time_row = time_file.readline()\n",
    "\n",
    "            self.cities = distance_row.strip().replace('\"', '').split(',')[1:]\n",
    "\n",
    "            for city in self.cities:\n",
    "                distance_row = distance_file.readline()\n",
    "                time_row = time_file.readline()\n",
    "\n",
    "                if not distance_row or not time_row:\n",
    "                    break\n",
    "\n",
    "                distance_row = distance_row.strip().replace('\"', '').split(',')[1:]\n",
    "                time_row = time_row.strip().replace('\"', '').split(',')[1:]\n",
    "\n",
    "                # Each cell is a tuple with the distance and the time\n",
    "                self.adjency_table.append([(int(x) if x != '' else 0, time_to_minutes(y) if y != '' else 0) for x, y in zip(distance_row, time_row)])\n",
    "\n",
    "    def shortest_path_dynamic(self, city1, city2):\n",
    "        # New matrix for dinaamic programming\n",
    "        dinamic_table = []\n",
    "\n",
    "        # Copy of cities list without city1 and city2\n",
    "        sorted_cities = self.cities.copy()\n",
    "        sorted_cities.pop(sorted_cities.index(city1))\n",
    "        sorted_cities.pop(sorted_cities.index(city2))\n",
    "\n",
    "        # Set the first row to city1 row\n",
    "        dinamic_table.append(self.adjency_table[self.cities.index(city1)])\n",
    "\n",
    "        for i, city in enumerate(sorted_cities, start=1):\n",
    "            index = self.cities.index(city)\n",
    "            dinamic_table.append([0 for _ in range(len(dinamic_table[0]))])\n",
    "            for j, (distance, time) in enumerate(self.adjency_table[index]):\n",
    "                # Try to find the minimum distance and time\n",
    "                # comparing curent distance and time with the previous one\n",
    "                new_distance = min(dinamic_table[i - 1][j][0], dinamic_table[i - 1][index][0] + distance)\n",
    "                new_time = min(dinamic_table[i - 1][j][1], dinamic_table[i - 1][index][1] + time)\n",
    "                dinamic_table[i][j] = (new_distance, new_time)\n",
    "\n",
    "        # Get path from dinamic table\n",
    "        distance_path = []\n",
    "        time_path = []\n",
    "        distance_path.append(city2)\n",
    "        time_path.append(city2)\n",
    "        for i, row in reversed(list(enumerate(dinamic_table))):\n",
    "            index = self.cities.index(distance_path[-1])\n",
    "            # Find where the minimum distance is changing from row to row\n",
    "            # and add the city to the path\n",
    "            if row[index][0] != dinamic_table[i - 1][index][0]:\n",
    "                distance_path.append(sorted_cities[i - 1])\n",
    "            if row[index][1] != dinamic_table[i - 1][index][1]:\n",
    "                time_path.append(sorted_cities[i - 1])\n",
    "        distance_path.append(city1)\n",
    "        distance_path.reverse()\n",
    "        time_path.append(city1)\n",
    "        time_path.reverse()\n",
    "\n",
    "        shortest_distance, shortest_time = dinamic_table[-1][self.cities.index(city2)]\n",
    "        return shortest_distance, minutes_to_time(shortest_time), distance_path, time_path"
   ]
  },
  {
   "cell_type": "code",
   "execution_count": 16,
   "metadata": {},
   "outputs": [
    {
     "name": "stdout",
     "output_type": "stream",
     "text": [
      "Armenia -> Pereira -> Medellín = 279 km\n",
      "Armenia -> Medellín = 3:49\n",
      "Tiempo de ejecución: 0.00011978 segundos\n"
     ]
    }
   ],
   "source": [
    "def main():\n",
    "    graph = Graph()\n",
    "    city1 = 'Armenia'\n",
    "    city2 = 'Medellín'\n",
    "    d, t, dp, tp = graph.shortest_path_dynamic(city1, city2)\n",
    "    print(f'{path_to_str(dp)} = {d} km')\n",
    "    print(f'{path_to_str(tp)} = {t}')\n",
    "\n",
    "    # time function\n",
    "    time_function(graph.shortest_path_dynamic, city1, city2)\n",
    "\n",
    "if __name__ == '__main__':\n",
    "    main()"
   ]
  }
 ],
 "metadata": {
  "interpreter": {
   "hash": "76affedb9f93f3a67632f256604c27ca8cb16151356b0babfbb4c9cb78ecdc57"
  },
  "kernelspec": {
   "display_name": "Python 3.8.10 64-bit ('.venv': venv)",
   "language": "python",
   "name": "python3"
  },
  "language_info": {
   "codemirror_mode": {
    "name": "ipython",
    "version": 3
   },
   "file_extension": ".py",
   "mimetype": "text/x-python",
   "name": "python",
   "nbconvert_exporter": "python",
   "pygments_lexer": "ipython3",
   "version": "3.8.10"
  },
  "orig_nbformat": 4
 },
 "nbformat": 4,
 "nbformat_minor": 2
}
